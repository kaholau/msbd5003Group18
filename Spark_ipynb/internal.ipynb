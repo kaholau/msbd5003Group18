{
 "cells": [
  {
   "cell_type": "markdown",
   "metadata": {
    "collapsed": true
   },
   "source": [
    "### Finding Prime Numbers"
   ]
  },
  {
   "cell_type": "code",
   "execution_count": 4,
   "metadata": {
    "scrolled": false
   },
   "outputs": [
    {
     "name": "stdout",
     "output_type": "stream",
     "text": [
      "[17, 401537, 462641, 97, 47137, 113, 43649, 467009, 193, 488833]\n"
     ]
    }
   ],
   "source": [
    "n = 500000\n",
    "allnumbers = sc.parallelize(xrange(2, n), 8).cache()\n",
    "composite = allnumbers.flatMap(lambda x: xrange(x*2, n,  )).repartition(8)\n",
    "prime = allnumbers.subtract(composite)\n",
    "print prime.take(10)"
   ]
  },
  {
   "cell_type": "code",
   "execution_count": 2,
   "metadata": {},
   "outputs": [
    {
     "name": "stdout",
     "output_type": "stream",
     "text": [
      "[62499, 62500, 62500, 62500, 62499, 62500, 62500, 62500]\n",
      "[5216986, 254759, 104166, 62499, 0, 0, 0, 0]\n",
      "[0, 5169, 1, 5219, 0, 5206, 0, 5189, 0, 5165, 0, 5199, 0, 5191, 0, 5199]\n",
      "[17, 401537, 462641, 97]\n"
     ]
    }
   ],
   "source": [
    "# Find the number of elements in each parttion\n",
    "def partitionsize(it): \n",
    "    s = 0\n",
    "    for i in it:\n",
    "        s += 1\n",
    "    yield s\n",
    "\n",
    "print allnumbers.mapPartitions(partitionsize).collect()\n",
    "print composite.mapPartitions(partitionsize).collect()\n",
    "print prime.mapPartitions(partitionsize).collect()\n",
    "print prime.glom().collect()[1][0:4]"
   ]
  },
  {
   "cell_type": "markdown",
   "metadata": {},
   "source": [
    "### Data Partitioning"
   ]
  },
  {
   "cell_type": "code",
   "execution_count": 4,
   "metadata": {
    "scrolled": true
   },
   "outputs": [
    {
     "name": "stdout",
     "output_type": "stream",
     "text": [
      "None\n",
      "[[(8, 8)], [(96, 96), (240, 240)], [(400, 400)], [(401, 401), (800, 800)]]\n",
      "[[(8, 8), (96, 96), (400, 400), (240, 240), (800, 800)], [(401, 401)], [], []]\n",
      "<function portable_hash at 0x7f5634d03f50>\n",
      "[[(8, 8), (96, 96)], [(240, 240), (400, 400)], [(401, 401)], [(800, 800)]]\n",
      "<function rangePartitioner at 0x7f56347bf320>\n"
     ]
    }
   ],
   "source": [
    "data = [8, 96, 240, 400, 401, 800]\n",
    "rdd = sc.parallelize(zip(data, data),4)\n",
    "print rdd.partitioner\n",
    "print rdd.glom().collect()\n",
    "rdd = rdd.reduceByKey(lambda x,y: x+y)\n",
    "print rdd.glom().collect()\n",
    "print rdd.partitioner.partitionFunc\n",
    "rdd = rdd.sortByKey()\n",
    "print rdd.glom().collect()\n",
    "print rdd.partitioner.partitionFunc"
   ]
  },
  {
   "cell_type": "code",
   "execution_count": 11,
   "metadata": {},
   "outputs": [
    {
     "name": "stdout",
     "output_type": "stream",
     "text": [
      "None\n",
      "<function portable_hash at 0x7f5634d03f50>\n",
      "8\n",
      "<function portable_hash at 0x7f5634d03f50>\n",
      "[(0, (0, 0)), (2048, (2048, 2048)), (1432, (1432, 1432)), (2056, (2056, 2056))]\n"
     ]
    }
   ],
   "source": [
    "a = sc.parallelize(zip(range(10000), range(10000)), 8)\n",
    "b = sc.parallelize(zip(range(10000), range(10000)), 8)\n",
    "print a.partitioner\n",
    "a = a.reduceByKey(lambda x,y: x+y)\n",
    "print a.partitioner.partitionFunc\n",
    "b = b.reduceByKey(lambda x,y: x+y)\n",
    "c = a.join(b)\n",
    "print c.getNumPartitions()\n",
    "print c.partitioner.partitionFunc\n",
    "print c.glom().first()[0:4]"
   ]
  },
  {
   "cell_type": "code",
   "execution_count": 1,
   "metadata": {
    "scrolled": true
   },
   "outputs": [
    {
     "name": "stdout",
     "output_type": "stream",
     "text": [
      "+-------+--------+\n",
      "|waybill|customer|\n",
      "+-------+--------+\n",
      "|     29|      94|\n",
      "|    474|      80|\n",
      "|    964|      47|\n",
      "|    558|      87|\n",
      "|    191|      81|\n",
      "|    418|      59|\n",
      "|    270|      30|\n",
      "|    222|      26|\n",
      "|    293|      12|\n",
      "|    730|      65|\n",
      "|    938|      79|\n",
      "|    442|      90|\n",
      "|    367|      34|\n",
      "|    278|      40|\n",
      "|    705|      47|\n",
      "|    243|      78|\n",
      "|    296|      92|\n",
      "|    926|      37|\n",
      "|     54|      16|\n",
      "|    847|      90|\n",
      "+-------+--------+\n",
      "only showing top 20 rows\n",
      "\n",
      "628\n",
      "+--------+-----+\n",
      "|customer|phone|\n",
      "+--------+-----+\n",
      "|       0|    0|\n",
      "|       1|    1|\n",
      "|       2|    2|\n",
      "|       3|    3|\n",
      "|       4|    4|\n",
      "|       5|    5|\n",
      "|       6|    6|\n",
      "|       7|    7|\n",
      "|       8|    8|\n",
      "|       9|    9|\n",
      "|      10|   10|\n",
      "|      11|   11|\n",
      "|      12|   12|\n",
      "|      13|   13|\n",
      "|      14|   14|\n",
      "|      15|   15|\n",
      "|      16|   16|\n",
      "|      17|   17|\n",
      "|      18|   18|\n",
      "|      19|   19|\n",
      "+--------+-----+\n",
      "only showing top 20 rows\n",
      "\n",
      "100\n",
      "+-------+------------+\n",
      "|waybill|max(version)|\n",
      "+-------+------------+\n",
      "|     26|           9|\n",
      "|    964|           5|\n",
      "|    474|           3|\n",
      "|    191|           2|\n",
      "|    541|           5|\n",
      "|    293|           7|\n",
      "|    222|           4|\n",
      "|    442|           7|\n",
      "|    278|           8|\n",
      "|    705|           2|\n",
      "|    243|           1|\n",
      "|    926|           6|\n",
      "|    965|           8|\n",
      "|     54|           8|\n",
      "|      0|           7|\n",
      "|    348|           7|\n",
      "|    277|           4|\n",
      "|    847|           8|\n",
      "|    287|           9|\n",
      "|    502|           8|\n",
      "+-------+------------+\n",
      "only showing top 20 rows\n",
      "\n",
      "645\n"
     ]
    }
   ],
   "source": [
    "# A 'real' example from SF Express\n",
    "# Prepare three relational tables\n",
    "\n",
    "from pyspark.sql.functions import *\n",
    "\n",
    "num_waybills = 1000\n",
    "num_customers = 100\n",
    "\n",
    "rdd = sc.parallelize((i, ) for i in xrange(num_waybills))\n",
    "waybills = spark.createDataFrame(rdd).select(floor(rand()*num_waybills).alias('waybill'), \n",
    "                                             floor(rand()*num_customers).alias('customer')) \\\n",
    "                .groupBy('waybill').max('customer').withColumnRenamed('max(customer)','customer')\\\n",
    "                .cache()\n",
    "waybills.show()\n",
    "print waybills.count()\n",
    "\n",
    "rdd = sc.parallelize((i, i) for i in xrange(num_customers))\n",
    "customers = spark.createDataFrame(rdd, ['customer', 'phone']).cache()\n",
    "customers.show()\n",
    "print customers.count()\n",
    "\n",
    "rdd = sc.parallelize((i, ) for i in xrange(num_waybills))\n",
    "waybill_status = spark.createDataFrame(rdd).select(floor(rand()*num_waybills).alias('waybill'), \n",
    "                                                   floor(rand()*10).alias('version')) \\\n",
    "                      .groupBy('waybill').max('version').cache()\n",
    "waybill_status.show()\n",
    "print waybill_status.count()"
   ]
  },
  {
   "cell_type": "code",
   "execution_count": 3,
   "metadata": {},
   "outputs": [
    {
     "name": "stdout",
     "output_type": "stream",
     "text": [
      "+-------+--------+-----+------------+\n",
      "|waybill|customer|phone|max(version)|\n",
      "+-------+--------+-----+------------+\n",
      "|    474|      80|   80|           3|\n",
      "|    964|      47|   47|           5|\n",
      "|    191|      81|   81|           2|\n",
      "|    222|      26|   26|           4|\n",
      "|    293|      12|   12|           7|\n",
      "|    442|      90|   90|           7|\n",
      "|    278|      40|   40|           8|\n",
      "|    705|      47|   47|           2|\n",
      "|    243|      78|   78|           1|\n",
      "|    926|      37|   37|           6|\n",
      "|     54|      16|   16|           8|\n",
      "|    847|      90|   90|           8|\n",
      "|    348|      42|   42|           7|\n",
      "|    502|      60|   60|           8|\n",
      "|    113|      74|   74|           2|\n",
      "|    155|      99|   99|           3|\n",
      "|    385|      44|   44|           5|\n",
      "|    241|      79|   79|           7|\n",
      "|    414|      15|   15|           0|\n",
      "|    196|       2|    2|           3|\n",
      "+-------+--------+-----+------------+\n",
      "only showing top 20 rows\n",
      "\n"
     ]
    }
   ],
   "source": [
    "# We want to join 3 tables together.\n",
    "# Knowing how each table is partitioned helps optimize the join order.\n",
    "\n",
    "waybills.join(customers, 'customer').join(waybill_status, 'waybill').show()\n",
    "# waybills.join(waybill_status, 'waybill').join(customers, 'customer').show()"
   ]
  },
  {
   "cell_type": "code",
   "execution_count": 9,
   "metadata": {},
   "outputs": [
    {
     "name": "stdout",
     "output_type": "stream",
     "text": [
      "[2500, 0, 0, 0, 0, 0, 0, 0]\n"
     ]
    },
    {
     "data": {
      "text/plain": [
       "[313, 312, 313, 312, 313, 312, 313, 312]"
      ]
     },
     "execution_count": 9,
     "metadata": {},
     "output_type": "execute_result"
    }
   ],
   "source": [
    "def partitionsize(it): yield len(list(it))\n",
    "    \n",
    "n = 40000\n",
    "\n",
    "def f(x):\n",
    "    return x / (n/8)\n",
    "\n",
    "data1 = range(0, n, 16) + range(0, n, 16)\n",
    "data2 = range(0, n, 8)\n",
    "rdd1 = sc.parallelize(zip(data1, data2), 8)\n",
    "rdd1 = rdd1.reduceByKey(lambda x,y: x+y)\n",
    "print rdd1.mapPartitions(partitionsize).collect()\n",
    "rdd1 = rdd1.partitionBy(8, f)\n",
    "rdd2 = rdd1.reduceByKey(lambda x,y: x+y, partitionFunc=f)\n",
    "#rdd2 = rdd1.reduceByKey(lambda x,y: x+y)\n",
    "rdd2.mapPartitions(partitionsize).collect()"
   ]
  },
  {
   "cell_type": "markdown",
   "metadata": {},
   "source": [
    "### Partitioning in DataFrames"
   ]
  },
  {
   "cell_type": "code",
   "execution_count": 5,
   "metadata": {},
   "outputs": [
    {
     "name": "stdout",
     "output_type": "stream",
     "text": [
      "8\n",
      "[[Row(_1=1, _2=2)], [Row(_1=1, _2=2)], [Row(_1=1, _2=3)], [Row(_1=2, _2=4), Row(_1=2, _2=5)], [Row(_1=2, _2=3)], [Row(_1=3, _2=1)], [Row(_1=3, _2=1)], [Row(_1=3, _2=2), Row(_1=4, _2=3)]]\n"
     ]
    }
   ],
   "source": [
    "data1 = [1, 1, 1, 2, 2, 2, 3, 3, 3, 4]\n",
    "data2 = [2, 2, 3, 4, 5, 3, 1, 1, 2, 3]\n",
    "df = spark.createDataFrame(zip(data1, data2))\n",
    "print df.rdd.getNumPartitions()\n",
    "print df.rdd.glom().collect()"
   ]
  },
  {
   "cell_type": "code",
   "execution_count": 6,
   "metadata": {},
   "outputs": [
    {
     "name": "stdout",
     "output_type": "stream",
     "text": [
      "[[], [], [Row(_1=1, _2=2), Row(_1=1, _2=2), Row(_1=2, _2=4), Row(_1=2, _2=5), Row(_1=3, _2=2)], [Row(_1=1, _2=3), Row(_1=2, _2=3), Row(_1=4, _2=3)], [], [Row(_1=3, _2=1), Row(_1=3, _2=1)]]\n",
      "+---+---+\n",
      "| _1| _2|\n",
      "+---+---+\n",
      "|  1|  2|\n",
      "|  1|  2|\n",
      "|  2|  4|\n",
      "|  2|  5|\n",
      "|  3|  2|\n",
      "|  1|  3|\n",
      "|  2|  3|\n",
      "|  4|  3|\n",
      "|  3|  1|\n",
      "|  3|  1|\n",
      "+---+---+\n",
      "\n"
     ]
    }
   ],
   "source": [
    "df1 = df.repartition(6, df._2)\n",
    "print df1.rdd.glom().collect()\n",
    "df1.show()"
   ]
  },
  {
   "cell_type": "markdown",
   "metadata": {},
   "source": [
    "### Threading"
   ]
  },
  {
   "cell_type": "code",
   "execution_count": 3,
   "metadata": {},
   "outputs": [
    {
     "name": "stdout",
     "output_type": "stream",
     "text": [
      "Worker 3 reports: Pi is roughly 3.142212\n",
      "Worker 4 reports: Pi is roughly 3.142006\n",
      "Worker 2 reports: Pi is roughly 3.142872\n",
      "Worker 0 reports: Pi is roughly 3.141997\n",
      "Worker 1 reports: Pi is roughly 3.142233\n"
     ]
    },
    {
     "data": {
      "text/plain": [
       "\n",
       "for i in range(5):\n",
       "    dojob(i)\n"
      ]
     },
     "execution_count": 3,
     "metadata": {},
     "output_type": "execute_result"
    }
   ],
   "source": [
    "import threading\n",
    "import random\n",
    "\n",
    "partitions = 8\n",
    "n = 500000 * partitions\n",
    "\n",
    "# use different seeds in different threads and different partitions\n",
    "# a bit ugly, since mapPartitionsWithIndex takes a function with only index\n",
    "# and it as parameters\n",
    "def f1(index, it):\n",
    "    random.seed(index + 987231)\n",
    "    for i in it:\n",
    "        x = random.random() * 2 - 1\n",
    "        y = random.random() * 2 - 1\n",
    "        yield 1 if x ** 2 + y ** 2 < 1 else 0\n",
    "\n",
    "def f2(index, it):\n",
    "    random.seed(index + 987232)\n",
    "    for i in it:\n",
    "        x = random.random() * 2 - 1\n",
    "        y = random.random() * 2 - 1\n",
    "        yield 1 if x ** 2 + y ** 2 < 1 else 0\n",
    "\n",
    "def f3(index, it):\n",
    "    random.seed(index + 987233)\n",
    "    for i in it:\n",
    "        x = random.random() * 2 - 1\n",
    "        y = random.random() * 2 - 1\n",
    "        yield 1 if x ** 2 + y ** 2 < 1 else 0\n",
    "    \n",
    "def f4(index, it):\n",
    "    random.seed(index + 987234)\n",
    "    for i in it:\n",
    "        x = random.random() * 2 - 1\n",
    "        y = random.random() * 2 - 1\n",
    "        yield 1 if x ** 2 + y ** 2 < 1 else 0\n",
    "    \n",
    "def f5(index, it):\n",
    "    random.seed(index + 987245)\n",
    "    for i in it:\n",
    "        x = random.random() * 2 - 1\n",
    "        y = random.random() * 2 - 1\n",
    "        yield 1 if x ** 2 + y ** 2 < 1 else 0\n",
    "\n",
    "f = [f1, f2, f3, f4, f5]\n",
    "    \n",
    "# the function executed in each thread/job\n",
    "def dojob(i):\n",
    "    count = sc.parallelize(xrange(1, n + 1), partitions) \\\n",
    "              .mapPartitionsWithIndex(f[i]).reduce(lambda a,b: a+b)\n",
    "    print \"Worker\", i, \"reports: Pi is roughly\", 4.0 * count / n\n",
    "\n",
    "# create and execute the threads\n",
    "threads = []\n",
    "for i in range(5):\n",
    "    t = threading.Thread(target=dojob, args=(i,))\n",
    "    threads += [t]\n",
    "    t.start()\n",
    "\n",
    "# wait for all threads to complete\n",
    "for t in threads:\n",
    "    t.join()    \n",
    "'''\n",
    "for i in range(5):\n",
    "    dojob(i)\n",
    "'''"
   ]
  },
  {
   "cell_type": "code",
   "execution_count": null,
   "metadata": {},
   "outputs": [],
   "source": []
  },
  {
   "cell_type": "code",
   "execution_count": null,
   "metadata": {
    "collapsed": true
   },
   "outputs": [],
   "source": []
  }
 ],
 "metadata": {
  "kernelspec": {
   "display_name": "Python 2",
   "language": "python",
   "name": "python2"
  },
  "language_info": {
   "codemirror_mode": {
    "name": "ipython",
    "version": 2
   },
   "file_extension": ".py",
   "mimetype": "text/x-python",
   "name": "python",
   "nbconvert_exporter": "python",
   "pygments_lexer": "ipython2",
   "version": "2.7.12"
  }
 },
 "nbformat": 4,
 "nbformat_minor": 1
}
