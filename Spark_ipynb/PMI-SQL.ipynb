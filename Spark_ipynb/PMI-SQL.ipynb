{
 "cells": [
  {
   "cell_type": "code",
   "execution_count": 2,
   "metadata": {},
   "outputs": [
    {
     "name": "stdout",
     "output_type": "stream",
     "text": [
      "8\n",
      "+--------------------+\n",
      "|               value|\n",
      "+--------------------+\n",
      "|       early radical|\n",
      "|   french revolution|\n",
      "|      pejorative way|\n",
      "|       violent means|\n",
      "|      positive label|\n",
      "|self-defined anar...|\n",
      "|political philosophy|\n",
      "|differ interpreta...|\n",
      "|     relate movement|\n",
      "|     social movement|\n",
      "|authoritarian ins...|\n",
      "|      most anarchist|\n",
      "|  harmonious society|\n",
      "|anti-authoritaria...|\n",
      "|authoritarian str...|\n",
      "| political structure|\n",
      "|coercive institution|\n",
      "|economic institution|\n",
      "|     social relation|\n",
      "|voluntary associa...|\n",
      "+--------------------+\n",
      "only showing top 20 rows\n",
      "\n"
     ]
    }
   ],
   "source": [
    "from pyspark.sql.functions import *\n",
    "\n",
    "# lines = spark.read.text('wasb://cluster@msbd.blob.core.windows.net/data/adj_noun_pairs.txt')\n",
    "lines = spark.read.text('../data/adj_noun_pairs.txt')\n",
    "print lines.rdd.getNumPartitions()\n",
    "lines.show()\n"
   ]
  },
  {
   "cell_type": "code",
   "execution_count": 3,
   "metadata": {},
   "outputs": [
    {
     "name": "stdout",
     "output_type": "stream",
     "text": [
      "+--------------------+\n",
      "|                   w|\n",
      "+--------------------+\n",
      "|    [early, radical]|\n",
      "|[french, revolution]|\n",
      "|   [pejorative, way]|\n",
      "|    [violent, means]|\n",
      "|   [positive, label]|\n",
      "|[self-defined, an...|\n",
      "|[political, philo...|\n",
      "|[differ, interpre...|\n",
      "|  [relate, movement]|\n",
      "|  [social, movement]|\n",
      "|[authoritarian, i...|\n",
      "|   [most, anarchist]|\n",
      "|[harmonious, soci...|\n",
      "|[anti-authoritari...|\n",
      "|[authoritarian, s...|\n",
      "|[political, struc...|\n",
      "|[coercive, instit...|\n",
      "|[economic, instit...|\n",
      "|  [social, relation]|\n",
      "|[voluntary, assoc...|\n",
      "+--------------------+\n",
      "only showing top 20 rows\n",
      "\n",
      "+------------------+--------------+\n",
      "|               adj|          noun|\n",
      "+------------------+--------------+\n",
      "|             early|       radical|\n",
      "|            french|    revolution|\n",
      "|        pejorative|           way|\n",
      "|           violent|         means|\n",
      "|          positive|         label|\n",
      "|      self-defined|     anarchist|\n",
      "|         political|    philosophy|\n",
      "|            differ|interpretation|\n",
      "|            relate|      movement|\n",
      "|            social|      movement|\n",
      "|     authoritarian|   institution|\n",
      "|              most|     anarchist|\n",
      "|        harmonious|       society|\n",
      "|anti-authoritarian|       society|\n",
      "|     authoritarian|     structure|\n",
      "|         political|     structure|\n",
      "|          coercive|   institution|\n",
      "|          economic|   institution|\n",
      "|            social|      relation|\n",
      "|         voluntary|   association|\n",
      "+------------------+--------------+\n",
      "only showing top 20 rows\n",
      "\n"
     ]
    }
   ],
   "source": [
    "# Converting lines into word pairs. \n",
    "# Data is dirty: some lines have more than 2 words, so filter them out.\n",
    "# pairs = lines.map(lambda l: tuple(l.split())).filter(lambda p: len(p)==2)\n",
    "words = lines.select(split(lines[0],' ').alias('w')).filter(size('w')==2) \n",
    "words.show()\n",
    "pairs = words.select(words['w'][0].alias('adj'), words['w'][1].alias('noun'))\n",
    "pairs.cache()\n",
    "pairs.show()"
   ]
  },
  {
   "cell_type": "code",
   "execution_count": 4,
   "metadata": {},
   "outputs": [
    {
     "name": "stdout",
     "output_type": "stream",
     "text": [
      "+------------------+--------------+\n",
      "|               adj|          noun|\n",
      "+------------------+--------------+\n",
      "|             early|       radical|\n",
      "|            french|    revolution|\n",
      "|        pejorative|           way|\n",
      "|           violent|         means|\n",
      "|          positive|         label|\n",
      "|      self-defined|     anarchist|\n",
      "|         political|    philosophy|\n",
      "|            differ|interpretation|\n",
      "|            relate|      movement|\n",
      "|            social|      movement|\n",
      "|     authoritarian|   institution|\n",
      "|              most|     anarchist|\n",
      "|        harmonious|       society|\n",
      "|anti-authoritarian|       society|\n",
      "|     authoritarian|     structure|\n",
      "|         political|     structure|\n",
      "|          coercive|   institution|\n",
      "|          economic|   institution|\n",
      "|            social|      relation|\n",
      "|         voluntary|   association|\n",
      "+------------------+--------------+\n",
      "only showing top 20 rows\n",
      "\n"
     ]
    }
   ],
   "source": [
    "pairs.show()"
   ]
  },
  {
   "cell_type": "code",
   "execution_count": 4,
   "metadata": {
    "collapsed": true
   },
   "outputs": [],
   "source": [
    "N = pairs.count()"
   ]
  },
  {
   "cell_type": "code",
   "execution_count": 5,
   "metadata": {},
   "outputs": [
    {
     "data": {
      "text/plain": [
       "3162692"
      ]
     },
     "execution_count": 5,
     "metadata": {},
     "output_type": "execute_result"
    }
   ],
   "source": [
    "N"
   ]
  },
  {
   "cell_type": "code",
   "execution_count": 6,
   "metadata": {},
   "outputs": [],
   "source": [
    "# Compute the frequency of each pair.\n",
    "# Ignore pairs that not frequent enough\n",
    "# pair_freqs = pairs.map(lambda p: (p,1)).reduceByKey(lambda f1, f2: f1 + f2) \\\n",
    "#                   .filter(lambda pf: pf[1] >= 100)\n",
    "\n",
    "pair_freqs = pairs.groupBy('adj', 'noun').count().filter('count >= 100')"
   ]
  },
  {
   "cell_type": "code",
   "execution_count": 7,
   "metadata": {},
   "outputs": [
    {
     "name": "stdout",
     "output_type": "stream",
     "text": [
      "+-----------------+------------+-----+\n",
      "|              adj|        noun|count|\n",
      "+-----------------+------------+-----+\n",
      "|            short|       story| 1265|\n",
      "|           second|         War|  970|\n",
      "|          british|      museum|  171|\n",
      "|             many|   scientist|  158|\n",
      "|            comic|        book|  559|\n",
      "|         southern|       state|  127|\n",
      "|         official|    language|  682|\n",
      "|         american|     culture|  187|\n",
      "|          general|  population|  182|\n",
      "|       geographic|  coordinate|  133|\n",
      "|            roman|   Catholics|  104|\n",
      "|           second|    language|  162|\n",
      "|           german|      empire|  178|\n",
      "|       fourteenth|   amendment|  105|\n",
      "|polish-lithuanian|Commonwealth|  163|\n",
      "|              3rd|     edition|  100|\n",
      "|           recent|      change|  109|\n",
      "|            other|        time|  233|\n",
      "|              new|       party|  185|\n",
      "|          operate|      system|  562|\n",
      "+-----------------+------------+-----+\n",
      "only showing top 20 rows\n",
      "\n"
     ]
    }
   ],
   "source": [
    "pair_freqs.show()"
   ]
  },
  {
   "cell_type": "code",
   "execution_count": 9,
   "metadata": {},
   "outputs": [],
   "source": [
    "# Computing the frequencies of the adjectives and the nouns\n",
    "# a_freqs = pairs.map(lambda p: (p[0],1)).reduceByKey(lambda x,y: x+y)\n",
    "# n_freqs = pairs.map(lambda p: (p[1],1)).reduceByKey(lambda x,y: x+y)\n",
    "\n",
    "a_freqs =  pairs.groupBy('adj').count().withColumnRenamed('count', 'adjcount')\n",
    "n_freqs =  pairs.groupBy('noun').count().withColumnRenamed('count', 'nouncount')"
   ]
  },
  {
   "cell_type": "code",
   "execution_count": 10,
   "metadata": {},
   "outputs": [
    {
     "name": "stdout",
     "output_type": "stream",
     "text": [
      "+-------------+--------+\n",
      "|          adj|adjcount|\n",
      "+-------------+--------+\n",
      "|   indigenous|    1753|\n",
      "|          few|   11663|\n",
      "|     everyday|     712|\n",
      "|       online|    1753|\n",
      "|     cautious|      70|\n",
      "|     inverted|     155|\n",
      "|  unequivocal|      34|\n",
      "|     incoming|     341|\n",
      "|  11-year-old|      12|\n",
      "|       lamian|       1|\n",
      "|        inner|    1491|\n",
      "|precautionary|      63|\n",
      "|   electrical|    2261|\n",
      "|    recognize|     359|\n",
      "| cattle-based|       1|\n",
      "|      balding|      10|\n",
      "|     inertial|     284|\n",
      "|      lyrical|     177|\n",
      "|   convergent|     106|\n",
      "|     elongate|     127|\n",
      "+-------------+--------+\n",
      "only showing top 20 rows\n",
      "\n"
     ]
    }
   ],
   "source": [
    "a_freqs.show()"
   ]
  },
  {
   "cell_type": "code",
   "execution_count": 11,
   "metadata": {},
   "outputs": [
    {
     "name": "stdout",
     "output_type": "stream",
     "text": [
      "+-----------------+------------+------------------+\n",
      "|              adj|        noun|               PMI|\n",
      "+-----------------+------------+------------------+\n",
      "|            magna|       carta|14.410196596376286|\n",
      "|polish-lithuanian|Commonwealth| 13.07137409960666|\n",
      "|          nitrous|       oxide| 12.99060582764508|\n",
      "|       latter-day|      Saints|12.649734254024207|\n",
      "|        stainless|       steel|12.506597586010825|\n",
      "|             pave|      runway|12.482339231599479|\n",
      "|         corporal|  punishment|12.191415428592215|\n",
      "|          capital|  punishment|12.183256905205052|\n",
      "|             rush|        yard|  12.1470236944742|\n",
      "|         globular|     cluster|12.109954005340597|\n",
      "|         teutonic|      knight|12.074200587806475|\n",
      "|       refractive|       index|11.828363002104304|\n",
      "|           spinal|        cord|11.815718560868772|\n",
      "|        alcoholic|    beverage|11.808523043970219|\n",
      "|          unpaved|      runway| 11.79695092191404|\n",
      "|         anglican|   Communion|11.752242121990406|\n",
      "|          coaxial|       cable|11.684885137122127|\n",
      "|          angular|    momentum|11.622460251835882|\n",
      "|          unpaved|          km|11.408626883879302|\n",
      "|           mobile|    cellular|11.315829787299972|\n",
      "+-----------------+------------+------------------+\n",
      "only showing top 20 rows\n",
      "\n"
     ]
    }
   ],
   "source": [
    "pair_freqs.join(a_freqs, 'adj').join(n_freqs, 'noun') \\\n",
    "          .select('adj', 'noun', \n",
    "                  log2(col('count')*N/(col('adjcount')*col('nouncount')))\n",
    "                  .alias('PMI')) \\\n",
    "          .orderBy(desc('PMI')).show()"
   ]
  },
  {
   "cell_type": "code",
   "execution_count": null,
   "metadata": {
    "collapsed": true
   },
   "outputs": [],
   "source": []
  },
  {
   "cell_type": "code",
   "execution_count": null,
   "metadata": {
    "collapsed": true
   },
   "outputs": [],
   "source": []
  }
 ],
 "metadata": {
  "kernelspec": {
   "display_name": "Python 2",
   "language": "python",
   "name": "python2"
  },
  "language_info": {
   "codemirror_mode": {
    "name": "ipython",
    "version": 2
   },
   "file_extension": ".py",
   "mimetype": "text/x-python",
   "name": "python",
   "nbconvert_exporter": "python",
   "pygments_lexer": "ipython2",
   "version": "2.7.12"
  }
 },
 "nbformat": 4,
 "nbformat_minor": 1
}
